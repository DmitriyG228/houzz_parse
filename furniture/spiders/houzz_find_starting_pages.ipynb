{
 "cells": [
  {
   "cell_type": "code",
   "execution_count": 230,
   "metadata": {},
   "outputs": [],
   "source": [
    "import requests\n",
    "from bs4 import BeautifulSoup\n",
    "import pandas as pd"
   ]
  },
  {
   "cell_type": "code",
   "execution_count": 197,
   "metadata": {},
   "outputs": [],
   "source": [
    "r = requests.get('https://www.houzz.com/products/')"
   ]
  },
  {
   "cell_type": "code",
   "execution_count": 198,
   "metadata": {},
   "outputs": [],
   "source": [
    "soup = BeautifulSoup(r.text, 'html.parser')"
   ]
  },
  {
   "cell_type": "code",
   "execution_count": 199,
   "metadata": {},
   "outputs": [],
   "source": [
    "hrefs = [a.get('href') for a in soup.find_all('a')]"
   ]
  },
  {
   "cell_type": "code",
   "execution_count": 200,
   "metadata": {},
   "outputs": [],
   "source": [
    "links = [h for h in hrefs if (type(h) == str and 'https://www.houzz.com/products/' in h)]"
   ]
  },
  {
   "cell_type": "code",
   "execution_count": 201,
   "metadata": {},
   "outputs": [],
   "source": [
    "links = [link for link in links if not '~' in link.split('https://www.houzz.com/products/')[1]]"
   ]
  },
  {
   "cell_type": "code",
   "execution_count": 202,
   "metadata": {},
   "outputs": [],
   "source": [
    "links = [link for link in links if not '/' in link.split('https://www.houzz.com/products/')[1]]"
   ]
  },
  {
   "cell_type": "code",
   "execution_count": 204,
   "metadata": {},
   "outputs": [],
   "source": [
    "links = list(set(links))"
   ]
  },
  {
   "cell_type": "code",
   "execution_count": 205,
   "metadata": {},
   "outputs": [
    {
     "data": {
      "text/plain": [
       "67"
      ]
     },
     "execution_count": 205,
     "metadata": {},
     "output_type": "execute_result"
    }
   ],
   "source": [
    "len(links)"
   ]
  },
  {
   "cell_type": "code",
   "execution_count": 206,
   "metadata": {},
   "outputs": [],
   "source": [
    "final = []"
   ]
  },
  {
   "cell_type": "code",
   "execution_count": 207,
   "metadata": {
    "collapsed": true,
    "jupyter": {
     "outputs_hidden": true
    }
   },
   "outputs": [
    {
     "name": "stdout",
     "output_type": "stream",
     "text": [
      "https://www.houzz.com/products/shelving\n",
      "https://www.houzz.com/products/building-materials\n",
      "https://www.houzz.com/products/bedroom-furniture\n",
      "https://www.houzz.com/products/pillows-and-throws\n",
      "https://www.houzz.com/products/christmas-trees\n",
      "https://www.houzz.com/products/on-sale\n",
      "https://www.houzz.com/products/holiday-decorations\n",
      "https://www.houzz.com/products/coffee-and-accent-tables\n",
      "https://www.houzz.com/products/beds-and-headboards\n",
      "https://www.houzz.com/products/bathroom-lighting-and-vanity-lighting\n",
      "https://www.houzz.com/products/bathroom-fixtures\n",
      "https://www.houzz.com/products/wreaths-and-garlands\n",
      "https://www.houzz.com/products/outdoor-structures\n",
      "https://www.houzz.com/products/office-storage\n",
      "https://www.houzz.com/products/hardware\n",
      "https://www.houzz.com/products/home-decor\n",
      "https://www.houzz.com/products/bedroom-products\n",
      "https://www.houzz.com/products/artwork\n",
      "https://www.houzz.com/products/home-office-furniture\n",
      "https://www.houzz.com/products/wall-decor\n",
      "https://www.houzz.com/products/flush-mount-ceiling-lighting\n",
      "https://www.houzz.com/products/lawn-and-garden\n",
      "https://www.houzz.com/products/christmas-ornaments\n",
      "https://www.houzz.com/products/heating-and-cooling\n",
      "https://www.houzz.com/products/christmas-decorations\n",
      "https://www.houzz.com/products/bathroom-faucets\n",
      "https://www.houzz.com/products/living-products\n",
      "https://www.houzz.com/products/storage-and-organization\n",
      "https://www.houzz.com/products/kitchen-storage-and-organization\n",
      "https://www.houzz.com/products/tile\n",
      "https://www.houzz.com/products/table-lamps\n",
      "https://www.houzz.com/products/armchairs-and-accent-chairs\n",
      "https://www.houzz.com/products/holiday-accents-and-figurines\n",
      "https://www.houzz.com/products/outdoor-products\n",
      "https://www.houzz.com/products/home-improvement\n",
      "https://www.houzz.com/products/lighting\n",
      "https://www.houzz.com/products/living-room-furniture\n",
      "https://www.houzz.com/products/media-storage\n",
      "https://www.houzz.com/products/rugs\n",
      "https://www.houzz.com/products/tabletop\n",
      "https://www.houzz.com/products/kitchen-and-dining\n",
      "https://www.houzz.com/products/kitchen-fixtures\n",
      "https://www.houzz.com/products/bedroom-decor\n",
      "https://www.houzz.com/products/kitchen-and-dining-furniture\n",
      "https://www.houzz.com/products/pendant-lighting\n",
      "https://www.houzz.com/products/furniture\n",
      "https://www.houzz.com/products/bath-products\n",
      "https://www.houzz.com/products/nightstands-and-bedside-tables\n",
      "https://www.houzz.com/products/outdoor-decor\n",
      "https://www.houzz.com/products/dressers\n",
      "https://www.houzz.com/products/bathtubs\n",
      "https://www.houzz.com/products/chandeliers\n",
      "https://www.houzz.com/products/storage-furniture\n",
      "https://www.houzz.com/products/holiday-lighting\n",
      "https://www.houzz.com/products/bathroom-vanities-and-sink-consoles\n",
      "https://www.houzz.com/products/bedding\n",
      "https://www.houzz.com/products/patio-furniture\n",
      "https://www.houzz.com/products/cookware-and-bakeware\n",
      "https://www.houzz.com/products/showers\n",
      "https://www.houzz.com/products/bathroom-storage-and-vanities\n",
      "https://www.houzz.com/products/sofas-and-sectionals\n",
      "https://www.houzz.com/products/decorative-accents\n",
      "https://www.houzz.com/products/mirrors\n",
      "https://www.houzz.com/products/pool-and-spa\n",
      "https://www.houzz.com/products/wall-sconces\n",
      "https://www.houzz.com/products/lamps\n",
      "https://www.houzz.com/products/outdoor-lighting\n"
     ]
    }
   ],
   "source": [
    "for link in links:\n",
    "    print(link)\n",
    "    r = requests.get(link)\n",
    "    soup = BeautifulSoup(r.text, 'html.parser')\n",
    "    hrefs = [a.get('href') for a in soup.find_all('a')]\n",
    "    links_ = [h for h in hrefs if (type(h) == str and 'https://www.houzz.com/products/' in h)]\n",
    "    links_ = [link for link in links_ if not '~' in link.split('https://www.houzz.com/products/')[1]]\n",
    "    final.extend(links_)\n",
    "    "
   ]
  },
  {
   "cell_type": "code",
   "execution_count": 208,
   "metadata": {},
   "outputs": [],
   "source": [
    "final.extend(links)"
   ]
  },
  {
   "cell_type": "code",
   "execution_count": 210,
   "metadata": {},
   "outputs": [],
   "source": [
    "final = list(set(final))"
   ]
  },
  {
   "cell_type": "code",
   "execution_count": 214,
   "metadata": {},
   "outputs": [],
   "source": [
    "final = [link for link in final if not '--' in link]"
   ]
  },
  {
   "cell_type": "code",
   "execution_count": 227,
   "metadata": {},
   "outputs": [],
   "source": [
    "final = [link for link in final if not '/' in link.split('https://www.houzz.com/products/')[1]]"
   ]
  },
  {
   "cell_type": "code",
   "execution_count": 236,
   "metadata": {},
   "outputs": [],
   "source": [
    "pd.DataFrame(final).to_csv('starting_pages.csv',index=False)"
   ]
  },
  {
   "cell_type": "code",
   "execution_count": null,
   "metadata": {},
   "outputs": [],
   "source": []
  }
 ],
 "metadata": {
  "kernelspec": {
   "display_name": "furniture",
   "language": "python",
   "name": "furniture"
  },
  "language_info": {
   "codemirror_mode": {
    "name": "ipython",
    "version": 3
   },
   "file_extension": ".py",
   "mimetype": "text/x-python",
   "name": "python",
   "nbconvert_exporter": "python",
   "pygments_lexer": "ipython3",
   "version": "3.8.6"
  }
 },
 "nbformat": 4,
 "nbformat_minor": 4
}
